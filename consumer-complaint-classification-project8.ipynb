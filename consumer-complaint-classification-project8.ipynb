{
 "cells": [
  {
   "cell_type": "code",
   "execution_count": 1,
   "id": "3af7dbf8",
   "metadata": {
    "execution": {
     "iopub.execute_input": "2022-05-20T06:49:29.334712Z",
     "iopub.status.busy": "2022-05-20T06:49:29.333727Z",
     "iopub.status.idle": "2022-05-20T06:49:30.453586Z",
     "shell.execute_reply": "2022-05-20T06:49:30.452803Z"
    },
    "papermill": {
     "duration": 1.16922,
     "end_time": "2022-05-20T06:49:30.456065",
     "exception": false,
     "start_time": "2022-05-20T06:49:29.286845",
     "status": "completed"
    },
    "tags": []
   },
   "outputs": [],
   "source": [
    "import pandas as pd\n",
    "import numpy as np\n",
    "import matplotlib.pyplot as plt\n",
    "import seaborn as sns\n",
    "import missingno as ms\n"
   ]
  },
  {
   "cell_type": "code",
   "execution_count": 2,
   "id": "d978e8c9",
   "metadata": {
    "execution": {
     "iopub.execute_input": "2022-05-20T06:49:30.537746Z",
     "iopub.status.busy": "2022-05-20T06:49:30.537237Z",
     "iopub.status.idle": "2022-05-20T06:49:30.688851Z",
     "shell.execute_reply": "2022-05-20T06:49:30.688051Z"
    },
    "papermill": {
     "duration": 0.195367,
     "end_time": "2022-05-20T06:49:30.691771",
     "exception": false,
     "start_time": "2022-05-20T06:49:30.496404",
     "status": "completed"
    },
    "tags": []
   },
   "outputs": [
    {
     "data": {
      "text/html": [
       "<div>\n",
       "<style scoped>\n",
       "    .dataframe tbody tr th:only-of-type {\n",
       "        vertical-align: middle;\n",
       "    }\n",
       "\n",
       "    .dataframe tbody tr th {\n",
       "        vertical-align: top;\n",
       "    }\n",
       "\n",
       "    .dataframe thead th {\n",
       "        text-align: right;\n",
       "    }\n",
       "</style>\n",
       "<table border=\"1\" class=\"dataframe\">\n",
       "  <thead>\n",
       "    <tr style=\"text-align: right;\">\n",
       "      <th></th>\n",
       "      <th>Date received</th>\n",
       "      <th>Product</th>\n",
       "      <th>Sub-product</th>\n",
       "      <th>Issue</th>\n",
       "      <th>Sub-issue</th>\n",
       "      <th>Consumer Complaint</th>\n",
       "      <th>Company Public Response</th>\n",
       "      <th>Company</th>\n",
       "      <th>State</th>\n",
       "      <th>ZIP code</th>\n",
       "      <th>Tags</th>\n",
       "      <th>Consumer consent provided?</th>\n",
       "      <th>Submitted via</th>\n",
       "      <th>Date Sent to Company</th>\n",
       "      <th>Company Response to Consumer</th>\n",
       "      <th>Timely response?</th>\n",
       "      <th>Consumer disputed?</th>\n",
       "      <th>Complaint ID</th>\n",
       "    </tr>\n",
       "  </thead>\n",
       "  <tbody>\n",
       "    <tr>\n",
       "      <th>0</th>\n",
       "      <td>3/12/14</td>\n",
       "      <td>Mortgage</td>\n",
       "      <td>Other mortgage</td>\n",
       "      <td>Loan modification,collection,foreclosure</td>\n",
       "      <td>NaN</td>\n",
       "      <td>NaN</td>\n",
       "      <td>NaN</td>\n",
       "      <td>M&amp;T BANK CORPORATION</td>\n",
       "      <td>MI</td>\n",
       "      <td>48382</td>\n",
       "      <td>NaN</td>\n",
       "      <td>NaN</td>\n",
       "      <td>Referral</td>\n",
       "      <td>3/17/14</td>\n",
       "      <td>Closed with explanation</td>\n",
       "      <td>Yes</td>\n",
       "      <td>No</td>\n",
       "      <td>759217</td>\n",
       "    </tr>\n",
       "    <tr>\n",
       "      <th>1</th>\n",
       "      <td>10/1/16</td>\n",
       "      <td>Credit reporting</td>\n",
       "      <td>NaN</td>\n",
       "      <td>Incorrect information on credit report</td>\n",
       "      <td>Account status</td>\n",
       "      <td>I have outdated information on my credit repor...</td>\n",
       "      <td>Company has responded to the consumer and the ...</td>\n",
       "      <td>TRANSUNION INTERMEDIATE HOLDINGS, INC.</td>\n",
       "      <td>AL</td>\n",
       "      <td>352XX</td>\n",
       "      <td>NaN</td>\n",
       "      <td>Consent provided</td>\n",
       "      <td>Web</td>\n",
       "      <td>10/5/16</td>\n",
       "      <td>Closed with explanation</td>\n",
       "      <td>Yes</td>\n",
       "      <td>No</td>\n",
       "      <td>2141773</td>\n",
       "    </tr>\n",
       "    <tr>\n",
       "      <th>2</th>\n",
       "      <td>10/17/16</td>\n",
       "      <td>Consumer Loan</td>\n",
       "      <td>Vehicle loan</td>\n",
       "      <td>Managing the loan or lease</td>\n",
       "      <td>NaN</td>\n",
       "      <td>I purchased a new car on XXXX XXXX. The car de...</td>\n",
       "      <td>NaN</td>\n",
       "      <td>CITIZENS FINANCIAL GROUP, INC.</td>\n",
       "      <td>PA</td>\n",
       "      <td>177XX</td>\n",
       "      <td>Older American</td>\n",
       "      <td>Consent provided</td>\n",
       "      <td>Web</td>\n",
       "      <td>10/20/16</td>\n",
       "      <td>Closed with explanation</td>\n",
       "      <td>Yes</td>\n",
       "      <td>No</td>\n",
       "      <td>2163100</td>\n",
       "    </tr>\n",
       "    <tr>\n",
       "      <th>3</th>\n",
       "      <td>6/8/14</td>\n",
       "      <td>Credit card</td>\n",
       "      <td>NaN</td>\n",
       "      <td>Bankruptcy</td>\n",
       "      <td>NaN</td>\n",
       "      <td>NaN</td>\n",
       "      <td>NaN</td>\n",
       "      <td>AMERICAN EXPRESS COMPANY</td>\n",
       "      <td>ID</td>\n",
       "      <td>83854</td>\n",
       "      <td>Older American</td>\n",
       "      <td>NaN</td>\n",
       "      <td>Web</td>\n",
       "      <td>6/10/14</td>\n",
       "      <td>Closed with explanation</td>\n",
       "      <td>Yes</td>\n",
       "      <td>Yes</td>\n",
       "      <td>885638</td>\n",
       "    </tr>\n",
       "    <tr>\n",
       "      <th>4</th>\n",
       "      <td>9/13/14</td>\n",
       "      <td>Debt collection</td>\n",
       "      <td>Credit card</td>\n",
       "      <td>Communication tactics</td>\n",
       "      <td>Frequent or repeated calls</td>\n",
       "      <td>NaN</td>\n",
       "      <td>NaN</td>\n",
       "      <td>CITIBANK, N.A.</td>\n",
       "      <td>VA</td>\n",
       "      <td>23233</td>\n",
       "      <td>NaN</td>\n",
       "      <td>NaN</td>\n",
       "      <td>Web</td>\n",
       "      <td>9/13/14</td>\n",
       "      <td>Closed with explanation</td>\n",
       "      <td>Yes</td>\n",
       "      <td>Yes</td>\n",
       "      <td>1027760</td>\n",
       "    </tr>\n",
       "  </tbody>\n",
       "</table>\n",
       "</div>"
      ],
      "text/plain": [
       "  Date received           Product     Sub-product  \\\n",
       "0       3/12/14          Mortgage  Other mortgage   \n",
       "1       10/1/16  Credit reporting             NaN   \n",
       "2      10/17/16     Consumer Loan    Vehicle loan   \n",
       "3        6/8/14       Credit card             NaN   \n",
       "4       9/13/14   Debt collection     Credit card   \n",
       "\n",
       "                                      Issue                   Sub-issue  \\\n",
       "0  Loan modification,collection,foreclosure                         NaN   \n",
       "1    Incorrect information on credit report              Account status   \n",
       "2                Managing the loan or lease                         NaN   \n",
       "3                                Bankruptcy                         NaN   \n",
       "4                     Communication tactics  Frequent or repeated calls   \n",
       "\n",
       "                                  Consumer Complaint  \\\n",
       "0                                                NaN   \n",
       "1  I have outdated information on my credit repor...   \n",
       "2  I purchased a new car on XXXX XXXX. The car de...   \n",
       "3                                                NaN   \n",
       "4                                                NaN   \n",
       "\n",
       "                             Company Public Response  \\\n",
       "0                                                NaN   \n",
       "1  Company has responded to the consumer and the ...   \n",
       "2                                                NaN   \n",
       "3                                                NaN   \n",
       "4                                                NaN   \n",
       "\n",
       "                                  Company State ZIP code            Tags  \\\n",
       "0                    M&T BANK CORPORATION    MI    48382             NaN   \n",
       "1  TRANSUNION INTERMEDIATE HOLDINGS, INC.    AL    352XX             NaN   \n",
       "2          CITIZENS FINANCIAL GROUP, INC.    PA    177XX  Older American   \n",
       "3                AMERICAN EXPRESS COMPANY    ID    83854  Older American   \n",
       "4                          CITIBANK, N.A.    VA    23233             NaN   \n",
       "\n",
       "  Consumer consent provided? Submitted via Date Sent to Company  \\\n",
       "0                        NaN      Referral              3/17/14   \n",
       "1           Consent provided           Web              10/5/16   \n",
       "2           Consent provided           Web             10/20/16   \n",
       "3                        NaN           Web              6/10/14   \n",
       "4                        NaN           Web              9/13/14   \n",
       "\n",
       "  Company Response to Consumer Timely response? Consumer disputed?  \\\n",
       "0      Closed with explanation              Yes                 No   \n",
       "1      Closed with explanation              Yes                 No   \n",
       "2      Closed with explanation              Yes                 No   \n",
       "3      Closed with explanation              Yes                Yes   \n",
       "4      Closed with explanation              Yes                Yes   \n",
       "\n",
       "   Complaint ID  \n",
       "0        759217  \n",
       "1       2141773  \n",
       "2       2163100  \n",
       "3        885638  \n",
       "4       1027760  "
      ]
     },
     "execution_count": 2,
     "metadata": {},
     "output_type": "execute_result"
    }
   ],
   "source": [
    "data = pd.read_csv('../input/consumer-complaint-classification/Consumer_Complaints.csv')\n",
    "data.head()"
   ]
  },
  {
   "cell_type": "code",
   "execution_count": 3,
   "id": "f9c4a53b",
   "metadata": {
    "execution": {
     "iopub.execute_input": "2022-05-20T06:49:30.776020Z",
     "iopub.status.busy": "2022-05-20T06:49:30.775754Z",
     "iopub.status.idle": "2022-05-20T06:49:30.781086Z",
     "shell.execute_reply": "2022-05-20T06:49:30.780523Z"
    },
    "papermill": {
     "duration": 0.049223,
     "end_time": "2022-05-20T06:49:30.782841",
     "exception": false,
     "start_time": "2022-05-20T06:49:30.733618",
     "status": "completed"
    },
    "tags": []
   },
   "outputs": [
    {
     "data": {
      "text/plain": [
       "(9999, 18)"
      ]
     },
     "execution_count": 3,
     "metadata": {},
     "output_type": "execute_result"
    }
   ],
   "source": [
    "data.shape"
   ]
  },
  {
   "cell_type": "code",
   "execution_count": 4,
   "id": "0efbad8d",
   "metadata": {
    "execution": {
     "iopub.execute_input": "2022-05-20T06:49:30.868056Z",
     "iopub.status.busy": "2022-05-20T06:49:30.867305Z",
     "iopub.status.idle": "2022-05-20T06:49:31.589464Z",
     "shell.execute_reply": "2022-05-20T06:49:31.588810Z"
    },
    "papermill": {
     "duration": 0.76698,
     "end_time": "2022-05-20T06:49:31.592431",
     "exception": false,
     "start_time": "2022-05-20T06:49:30.825451",
     "status": "completed"
    },
    "tags": []
   },
   "outputs": [
    {
     "name": "stdout",
     "output_type": "stream",
     "text": [
      "Date received                      0\n",
      "Product                            0\n",
      "Sub-product                     3053\n",
      "Issue                              0\n",
      "Sub-issue                       5847\n",
      "Consumer Complaint              7885\n",
      "Company Public Response         7305\n",
      "Company                            0\n",
      "State                             86\n",
      "ZIP code                          86\n",
      "Tags                            8588\n",
      "Consumer consent provided?      5994\n",
      "Submitted via                      0\n",
      "Date Sent to Company               0\n",
      "Company Response to Consumer       0\n",
      "Timely response?                   0\n",
      "Consumer disputed?               156\n",
      "Complaint ID                       0\n",
      "dtype: int64\n"
     ]
    },
    {
     "data": {
      "text/plain": [
       "<AxesSubplot:>"
      ]
     },
     "execution_count": 4,
     "metadata": {},
     "output_type": "execute_result"
    },
    {
     "data": {
      "image/png": "[encoded data removed]",
      "text/plain": [
       "<Figure size 1800x720 with 2 Axes>"
      ]
     },
     "metadata": {
      "needs_background": "light"
     },
     "output_type": "display_data"
    }
   ],
   "source": [
    "print(data.isnull().sum())\n",
    "ms.matrix(data)"
   ]
  },
  {
   "cell_type": "code",
   "execution_count": 5,
   "id": "ebc1f235",
   "metadata": {
    "execution": {
     "iopub.execute_input": "2022-05-20T06:49:31.684050Z",
     "iopub.status.busy": "2022-05-20T06:49:31.683249Z",
     "iopub.status.idle": "2022-05-20T06:49:31.697628Z",
     "shell.execute_reply": "2022-05-20T06:49:31.697052Z"
    },
    "papermill": {
     "duration": 0.061935,
     "end_time": "2022-05-20T06:49:31.699453",
     "exception": false,
     "start_time": "2022-05-20T06:49:31.637518",
     "status": "completed"
    },
    "tags": []
   },
   "outputs": [
    {
     "data": {
      "text/plain": [
       "0    Other mortgage\n",
       "dtype: object"
      ]
     },
     "execution_count": 5,
     "metadata": {},
     "output_type": "execute_result"
    }
   ],
   "source": [
    "data['Sub-product'].mode()"
   ]
  },
  {
   "cell_type": "code",
   "execution_count": 6,
   "id": "5f854427",
   "metadata": {
    "execution": {
     "iopub.execute_input": "2022-05-20T06:49:31.790534Z",
     "iopub.status.busy": "2022-05-20T06:49:31.789981Z",
     "iopub.status.idle": "2022-05-20T06:49:31.793140Z",
     "shell.execute_reply": "2022-05-20T06:49:31.792554Z"
    },
    "papermill": {
     "duration": 0.051067,
     "end_time": "2022-05-20T06:49:31.795052",
     "exception": false,
     "start_time": "2022-05-20T06:49:31.743985",
     "status": "completed"
    },
    "tags": []
   },
   "outputs": [],
   "source": [
    "#i am going to drop unneccessory columns because they dont have any importance "
   ]
  },
  {
   "cell_type": "code",
   "execution_count": 7,
   "id": "3f414956",
   "metadata": {
    "execution": {
     "iopub.execute_input": "2022-05-20T06:49:31.886903Z",
     "iopub.status.busy": "2022-05-20T06:49:31.886356Z",
     "iopub.status.idle": "2022-05-20T06:49:31.898603Z",
     "shell.execute_reply": "2022-05-20T06:49:31.897791Z"
    },
    "papermill": {
     "duration": 0.060985,
     "end_time": "2022-05-20T06:49:31.900589",
     "exception": false,
     "start_time": "2022-05-20T06:49:31.839604",
     "status": "completed"
    },
    "tags": []
   },
   "outputs": [
    {
     "data": {
      "text/html": [
       "<div>\n",
       "<style scoped>\n",
       "    .dataframe tbody tr th:only-of-type {\n",
       "        vertical-align: middle;\n",
       "    }\n",
       "\n",
       "    .dataframe tbody tr th {\n",
       "        vertical-align: top;\n",
       "    }\n",
       "\n",
       "    .dataframe thead th {\n",
       "        text-align: right;\n",
       "    }\n",
       "</style>\n",
       "<table border=\"1\" class=\"dataframe\">\n",
       "  <thead>\n",
       "    <tr style=\"text-align: right;\">\n",
       "      <th></th>\n",
       "      <th>Product</th>\n",
       "      <th>Consumer Complaint</th>\n",
       "    </tr>\n",
       "  </thead>\n",
       "  <tbody>\n",
       "    <tr>\n",
       "      <th>0</th>\n",
       "      <td>Mortgage</td>\n",
       "      <td>NaN</td>\n",
       "    </tr>\n",
       "    <tr>\n",
       "      <th>1</th>\n",
       "      <td>Credit reporting</td>\n",
       "      <td>I have outdated information on my credit repor...</td>\n",
       "    </tr>\n",
       "    <tr>\n",
       "      <th>2</th>\n",
       "      <td>Consumer Loan</td>\n",
       "      <td>I purchased a new car on XXXX XXXX. The car de...</td>\n",
       "    </tr>\n",
       "    <tr>\n",
       "      <th>3</th>\n",
       "      <td>Credit card</td>\n",
       "      <td>NaN</td>\n",
       "    </tr>\n",
       "    <tr>\n",
       "      <th>4</th>\n",
       "      <td>Debt collection</td>\n",
       "      <td>NaN</td>\n",
       "    </tr>\n",
       "  </tbody>\n",
       "</table>\n",
       "</div>"
      ],
      "text/plain": [
       "            Product                                 Consumer Complaint\n",
       "0          Mortgage                                                NaN\n",
       "1  Credit reporting  I have outdated information on my credit repor...\n",
       "2     Consumer Loan  I purchased a new car on XXXX XXXX. The car de...\n",
       "3       Credit card                                                NaN\n",
       "4   Debt collection                                                NaN"
      ]
     },
     "execution_count": 7,
     "metadata": {},
     "output_type": "execute_result"
    }
   ],
   "source": [
    "# we are going to work only with product and consumer complaint because thats what we needed\n",
    "new_data = data[['Product','Consumer Complaint']]\n",
    "new_data.head()"
   ]
  },
  {
   "cell_type": "code",
   "execution_count": 8,
   "id": "fb31e452",
   "metadata": {
    "execution": {
     "iopub.execute_input": "2022-05-20T06:49:31.993755Z",
     "iopub.status.busy": "2022-05-20T06:49:31.993450Z",
     "iopub.status.idle": "2022-05-20T06:49:32.002692Z",
     "shell.execute_reply": "2022-05-20T06:49:32.001732Z"
    },
    "papermill": {
     "duration": 0.057852,
     "end_time": "2022-05-20T06:49:32.004881",
     "exception": false,
     "start_time": "2022-05-20T06:49:31.947029",
     "status": "completed"
    },
    "tags": []
   },
   "outputs": [
    {
     "data": {
      "text/plain": [
       "Mortgage                                                                        2919\n",
       "Debt collection                                                                 1904\n",
       "Credit reporting                                                                1821\n",
       "Credit card                                                                     1162\n",
       "Bank account or service                                                         1090\n",
       "Student loan                                                                     422\n",
       "Consumer Loan                                                                    393\n",
       "Money transfers                                                                   71\n",
       "Payday loan                                                                       70\n",
       "Credit reporting, credit repair services, or other personal consumer reports      59\n",
       "Prepaid card                                                                      45\n",
       "Other financial service                                                           13\n",
       "Credit card or prepaid card                                                       12\n",
       "Checking or savings account                                                        9\n",
       "Money transfer, virtual currency, or money service                                 7\n",
       "Vehicle loan or lease                                                              2\n",
       "Name: Product, dtype: int64"
      ]
     },
     "execution_count": 8,
     "metadata": {},
     "output_type": "execute_result"
    }
   ],
   "source": [
    "new_data.Product.value_counts()"
   ]
  },
  {
   "cell_type": "code",
   "execution_count": 9,
   "id": "e24dc089",
   "metadata": {
    "execution": {
     "iopub.execute_input": "2022-05-20T06:49:32.098282Z",
     "iopub.status.busy": "2022-05-20T06:49:32.097978Z",
     "iopub.status.idle": "2022-05-20T06:49:32.106153Z",
     "shell.execute_reply": "2022-05-20T06:49:32.105443Z"
    },
    "papermill": {
     "duration": 0.057352,
     "end_time": "2022-05-20T06:49:32.108063",
     "exception": false,
     "start_time": "2022-05-20T06:49:32.050711",
     "status": "completed"
    },
    "tags": []
   },
   "outputs": [
    {
     "data": {
      "text/plain": [
       "(2114, 2)"
      ]
     },
     "execution_count": 9,
     "metadata": {},
     "output_type": "execute_result"
    }
   ],
   "source": [
    "new_data = new_data[pd.notnull(new_data['Consumer Complaint'])]\n",
    "new_data.shape"
   ]
  },
  {
   "cell_type": "code",
   "execution_count": 10,
   "id": "ed58ce29",
   "metadata": {
    "execution": {
     "iopub.execute_input": "2022-05-20T06:49:32.201236Z",
     "iopub.status.busy": "2022-05-20T06:49:32.200784Z",
     "iopub.status.idle": "2022-05-20T06:49:32.219935Z",
     "shell.execute_reply": "2022-05-20T06:49:32.219023Z"
    },
    "papermill": {
     "duration": 0.067928,
     "end_time": "2022-05-20T06:49:32.221981",
     "exception": false,
     "start_time": "2022-05-20T06:49:32.154053",
     "status": "completed"
    },
    "tags": []
   },
   "outputs": [
    {
     "data": {
      "text/html": [
       "<div>\n",
       "<style scoped>\n",
       "    .dataframe tbody tr th:only-of-type {\n",
       "        vertical-align: middle;\n",
       "    }\n",
       "\n",
       "    .dataframe tbody tr th {\n",
       "        vertical-align: top;\n",
       "    }\n",
       "\n",
       "    .dataframe thead th {\n",
       "        text-align: right;\n",
       "    }\n",
       "</style>\n",
       "<table border=\"1\" class=\"dataframe\">\n",
       "  <thead>\n",
       "    <tr style=\"text-align: right;\">\n",
       "      <th></th>\n",
       "      <th>Product</th>\n",
       "      <th>Consumer Complaint</th>\n",
       "      <th>category_id</th>\n",
       "    </tr>\n",
       "  </thead>\n",
       "  <tbody>\n",
       "    <tr>\n",
       "      <th>1</th>\n",
       "      <td>Credit reporting</td>\n",
       "      <td>I have outdated information on my credit repor...</td>\n",
       "      <td>0</td>\n",
       "    </tr>\n",
       "    <tr>\n",
       "      <th>2</th>\n",
       "      <td>Consumer Loan</td>\n",
       "      <td>I purchased a new car on XXXX XXXX. The car de...</td>\n",
       "      <td>1</td>\n",
       "    </tr>\n",
       "    <tr>\n",
       "      <th>7</th>\n",
       "      <td>Credit reporting</td>\n",
       "      <td>An account on my credit report has a mistaken ...</td>\n",
       "      <td>2</td>\n",
       "    </tr>\n",
       "    <tr>\n",
       "      <th>12</th>\n",
       "      <td>Debt collection</td>\n",
       "      <td>This company refuses to provide me verificatio...</td>\n",
       "      <td>3</td>\n",
       "    </tr>\n",
       "    <tr>\n",
       "      <th>16</th>\n",
       "      <td>Debt collection</td>\n",
       "      <td>This complaint is in regards to Square Two Fin...</td>\n",
       "      <td>4</td>\n",
       "    </tr>\n",
       "  </tbody>\n",
       "</table>\n",
       "</div>"
      ],
      "text/plain": [
       "             Product                                 Consumer Complaint  \\\n",
       "1   Credit reporting  I have outdated information on my credit repor...   \n",
       "2      Consumer Loan  I purchased a new car on XXXX XXXX. The car de...   \n",
       "7   Credit reporting  An account on my credit report has a mistaken ...   \n",
       "12   Debt collection  This company refuses to provide me verificatio...   \n",
       "16   Debt collection  This complaint is in regards to Square Two Fin...   \n",
       "\n",
       "    category_id  \n",
       "1             0  \n",
       "2             1  \n",
       "7             2  \n",
       "12            3  \n",
       "16            4  "
      ]
     },
     "execution_count": 10,
     "metadata": {},
     "output_type": "execute_result"
    }
   ],
   "source": [
    "new_data['category_id'] = new_data['Consumer Complaint'].factorize()[0]\n",
    "new_data.head()"
   ]
  },
  {
   "cell_type": "code",
   "execution_count": 11,
   "id": "29c9013f",
   "metadata": {
    "execution": {
     "iopub.execute_input": "2022-05-20T06:49:32.316342Z",
     "iopub.status.busy": "2022-05-20T06:49:32.315925Z",
     "iopub.status.idle": "2022-05-20T06:49:32.325735Z",
     "shell.execute_reply": "2022-05-20T06:49:32.324814Z"
    },
    "papermill": {
     "duration": 0.059221,
     "end_time": "2022-05-20T06:49:32.327710",
     "exception": false,
     "start_time": "2022-05-20T06:49:32.268489",
     "status": "completed"
    },
    "tags": []
   },
   "outputs": [],
   "source": [
    "cat_id = new_data[['Product', 'category_id']].drop_duplicates().sort_values('category_id')"
   ]
  },
  {
   "cell_type": "code",
   "execution_count": 12,
   "id": "fd9b9931",
   "metadata": {
    "execution": {
     "iopub.execute_input": "2022-05-20T06:49:32.422218Z",
     "iopub.status.busy": "2022-05-20T06:49:32.421587Z",
     "iopub.status.idle": "2022-05-20T06:49:32.438500Z",
     "shell.execute_reply": "2022-05-20T06:49:32.437920Z"
    },
    "papermill": {
     "duration": 0.066216,
     "end_time": "2022-05-20T06:49:32.440280",
     "exception": false,
     "start_time": "2022-05-20T06:49:32.374064",
     "status": "completed"
    },
    "tags": []
   },
   "outputs": [
    {
     "data": {
      "text/html": [
       "<div>\n",
       "<style scoped>\n",
       "    .dataframe tbody tr th:only-of-type {\n",
       "        vertical-align: middle;\n",
       "    }\n",
       "\n",
       "    .dataframe tbody tr th {\n",
       "        vertical-align: top;\n",
       "    }\n",
       "\n",
       "    .dataframe thead th {\n",
       "        text-align: right;\n",
       "    }\n",
       "</style>\n",
       "<table border=\"1\" class=\"dataframe\">\n",
       "  <thead>\n",
       "    <tr style=\"text-align: right;\">\n",
       "      <th></th>\n",
       "      <th>Product</th>\n",
       "      <th>Consumer Complaint</th>\n",
       "      <th>category_id</th>\n",
       "    </tr>\n",
       "  </thead>\n",
       "  <tbody>\n",
       "    <tr>\n",
       "      <th>1</th>\n",
       "      <td>Credit reporting</td>\n",
       "      <td>I have outdated information on my credit repor...</td>\n",
       "      <td>0</td>\n",
       "    </tr>\n",
       "    <tr>\n",
       "      <th>2</th>\n",
       "      <td>Consumer Loan</td>\n",
       "      <td>I purchased a new car on XXXX XXXX. The car de...</td>\n",
       "      <td>1</td>\n",
       "    </tr>\n",
       "    <tr>\n",
       "      <th>7</th>\n",
       "      <td>Credit reporting</td>\n",
       "      <td>An account on my credit report has a mistaken ...</td>\n",
       "      <td>2</td>\n",
       "    </tr>\n",
       "    <tr>\n",
       "      <th>12</th>\n",
       "      <td>Debt collection</td>\n",
       "      <td>This company refuses to provide me verificatio...</td>\n",
       "      <td>3</td>\n",
       "    </tr>\n",
       "    <tr>\n",
       "      <th>16</th>\n",
       "      <td>Debt collection</td>\n",
       "      <td>This complaint is in regards to Square Two Fin...</td>\n",
       "      <td>4</td>\n",
       "    </tr>\n",
       "  </tbody>\n",
       "</table>\n",
       "</div>"
      ],
      "text/plain": [
       "             Product                                 Consumer Complaint  \\\n",
       "1   Credit reporting  I have outdated information on my credit repor...   \n",
       "2      Consumer Loan  I purchased a new car on XXXX XXXX. The car de...   \n",
       "7   Credit reporting  An account on my credit report has a mistaken ...   \n",
       "12   Debt collection  This company refuses to provide me verificatio...   \n",
       "16   Debt collection  This complaint is in regards to Square Two Fin...   \n",
       "\n",
       "    category_id  \n",
       "1             0  \n",
       "2             1  \n",
       "7             2  \n",
       "12            3  \n",
       "16            4  "
      ]
     },
     "execution_count": 12,
     "metadata": {},
     "output_type": "execute_result"
    }
   ],
   "source": [
    "cat_to_id = dict((cat_id.values))\n",
    "id_to_cat = dict(cat_id[['category_id','Product']].values)\n",
    "new_data.head()\n",
    "#new_data.shape"
   ]
  },
  {
   "cell_type": "code",
   "execution_count": 13,
   "id": "1b9afb7c",
   "metadata": {
    "execution": {
     "iopub.execute_input": "2022-05-20T06:49:32.535564Z",
     "iopub.status.busy": "2022-05-20T06:49:32.535034Z",
     "iopub.status.idle": "2022-05-20T06:49:32.835125Z",
     "shell.execute_reply": "2022-05-20T06:49:32.834361Z"
    },
    "papermill": {
     "duration": 0.350369,
     "end_time": "2022-05-20T06:49:32.837368",
     "exception": false,
     "start_time": "2022-05-20T06:49:32.486999",
     "status": "completed"
    },
    "tags": []
   },
   "outputs": [
    {
     "data": {
      "text/plain": [
       "<AxesSubplot:xlabel='Product'>"
      ]
     },
     "execution_count": 13,
     "metadata": {},
     "output_type": "execute_result"
    },
    {
     "data": {
      "image/png": "[encoded data removed]",
      "text/plain": [
       "<Figure size 720x576 with 1 Axes>"
      ]
     },
     "metadata": {
      "needs_background": "light"
     },
     "output_type": "display_data"
    }
   ],
   "source": [
    "fig =plt.figure(figsize =(10,8))\n",
    "\n",
    "new_data.groupby('Product')['Consumer Complaint'].count().plot.bar(ylim=0)\n"
   ]
  },
  {
   "cell_type": "code",
   "execution_count": 14,
   "id": "a3666df0",
   "metadata": {
    "execution": {
     "iopub.execute_input": "2022-05-20T06:49:32.937050Z",
     "iopub.status.busy": "2022-05-20T06:49:32.936774Z",
     "iopub.status.idle": "2022-05-20T06:49:33.885072Z",
     "shell.execute_reply": "2022-05-20T06:49:33.884220Z"
    },
    "papermill": {
     "duration": 1.001062,
     "end_time": "2022-05-20T06:49:33.887376",
     "exception": false,
     "start_time": "2022-05-20T06:49:32.886314",
     "status": "completed"
    },
    "tags": []
   },
   "outputs": [],
   "source": [
    "from sklearn.feature_extraction.text import TfidfVectorizer\n",
    "tfid = TfidfVectorizer(sublinear_tf =True, min_df = 5,norm ='l2' , ngram_range =(1,2), stop_words ='english')\n",
    "features = tfid.fit_transform(new_data['Consumer Complaint']).toarray()\n",
    "\n",
    "labels = new_data.category_id\n"
   ]
  },
  {
   "cell_type": "code",
   "execution_count": 15,
   "id": "43bfa0bc",
   "metadata": {
    "execution": {
     "iopub.execute_input": "2022-05-20T06:49:33.989298Z",
     "iopub.status.busy": "2022-05-20T06:49:33.988493Z",
     "iopub.status.idle": "2022-05-20T06:49:34.051442Z",
     "shell.execute_reply": "2022-05-20T06:49:34.050779Z"
    },
    "papermill": {
     "duration": 0.115486,
     "end_time": "2022-05-20T06:49:34.053598",
     "exception": false,
     "start_time": "2022-05-20T06:49:33.938112",
     "status": "completed"
    },
    "tags": []
   },
   "outputs": [],
   "source": [
    "from sklearn.model_selection import train_test_split\n",
    "x_train,x_test,y_train,y_test = train_test_split(new_data['Consumer Complaint'], new_data['Product'],random_state =0)"
   ]
  },
  {
   "cell_type": "code",
   "execution_count": 16,
   "id": "0cf82538",
   "metadata": {
    "execution": {
     "iopub.execute_input": "2022-05-20T06:49:34.153026Z",
     "iopub.status.busy": "2022-05-20T06:49:34.152736Z",
     "iopub.status.idle": "2022-05-20T06:49:34.156758Z",
     "shell.execute_reply": "2022-05-20T06:49:34.155961Z"
    },
    "papermill": {
     "duration": 0.055626,
     "end_time": "2022-05-20T06:49:34.158511",
     "exception": false,
     "start_time": "2022-05-20T06:49:34.102885",
     "status": "completed"
    },
    "tags": []
   },
   "outputs": [],
   "source": [
    "from sklearn.feature_extraction.text import CountVectorizer\n",
    "count = CountVectorizer()\n"
   ]
  },
  {
   "cell_type": "code",
   "execution_count": 17,
   "id": "f4ebf79c",
   "metadata": {
    "execution": {
     "iopub.execute_input": "2022-05-20T06:49:34.256856Z",
     "iopub.status.busy": "2022-05-20T06:49:34.256540Z",
     "iopub.status.idle": "2022-05-20T06:49:34.684229Z",
     "shell.execute_reply": "2022-05-20T06:49:34.683633Z"
    },
    "papermill": {
     "duration": 0.479667,
     "end_time": "2022-05-20T06:49:34.686415",
     "exception": false,
     "start_time": "2022-05-20T06:49:34.206748",
     "status": "completed"
    },
    "tags": []
   },
   "outputs": [],
   "source": [
    "from sklearn.feature_extraction.text import TfidfTransformer\n",
    "count_train  =count.fit_transform(x_train)\n",
    "count_test = count.transform(x_test)\n",
    "\n",
    "tfid_transform = TfidfTransformer()\n",
    "tdif_train = tfid_transform.fit_transform(count_train)\n",
    "tdif_test = tfid_transform.fit_transform(count_test)"
   ]
  },
  {
   "cell_type": "code",
   "execution_count": 18,
   "id": "a7e3b0af",
   "metadata": {
    "execution": {
     "iopub.execute_input": "2022-05-20T06:49:34.785335Z",
     "iopub.status.busy": "2022-05-20T06:49:34.785043Z",
     "iopub.status.idle": "2022-05-20T06:49:34.980419Z",
     "shell.execute_reply": "2022-05-20T06:49:34.979429Z"
    },
    "papermill": {
     "duration": 0.247912,
     "end_time": "2022-05-20T06:49:34.982963",
     "exception": false,
     "start_time": "2022-05-20T06:49:34.735051",
     "status": "completed"
    },
    "tags": []
   },
   "outputs": [],
   "source": [
    "from sklearn.svm import LinearSVC\n",
    "\n",
    "clf = LinearSVC().fit(tdif_train,y_train)\n",
    "predict = clf.predict(tdif_test)\n"
   ]
  },
  {
   "cell_type": "code",
   "execution_count": 19,
   "id": "03a1a597",
   "metadata": {
    "execution": {
     "iopub.execute_input": "2022-05-20T06:49:35.082958Z",
     "iopub.status.busy": "2022-05-20T06:49:35.082507Z",
     "iopub.status.idle": "2022-05-20T06:49:35.113361Z",
     "shell.execute_reply": "2022-05-20T06:49:35.112565Z"
    },
    "papermill": {
     "duration": 0.084476,
     "end_time": "2022-05-20T06:49:35.116816",
     "exception": false,
     "start_time": "2022-05-20T06:49:35.032340",
     "status": "completed"
    },
    "tags": []
   },
   "outputs": [
    {
     "name": "stdout",
     "output_type": "stream",
     "text": [
      "                                                                              precision    recall  f1-score   support\n",
      "\n",
      "                                                     Bank account or service       0.60      0.73      0.66        44\n",
      "                                                               Consumer Loan       0.42      0.24      0.30        21\n",
      "                                                                 Credit card       0.77      0.74      0.75        72\n",
      "                                                            Credit reporting       0.79      0.89      0.84        91\n",
      "Credit reporting, credit repair services, or other personal consumer reports       0.00      0.00      0.00         2\n",
      "                                                             Debt collection       0.78      0.86      0.82       124\n",
      "                                                             Money transfers       0.00      0.00      0.00        11\n",
      "                                                                    Mortgage       0.87      0.91      0.89       113\n",
      "                                                     Other financial service       0.00      0.00      0.00         1\n",
      "                                                                 Payday loan       0.50      0.12      0.20         8\n",
      "                                                                Prepaid card       0.00      0.00      0.00         8\n",
      "                                                                Student loan       0.82      0.82      0.82        34\n",
      "\n",
      "                                                                    accuracy                           0.78       529\n",
      "                                                                   macro avg       0.46      0.44      0.44       529\n",
      "                                                                weighted avg       0.74      0.78      0.75       529\n",
      "\n"
     ]
    },
    {
     "name": "stderr",
     "output_type": "stream",
     "text": [
      "/opt/conda/lib/python3.7/site-packages/sklearn/metrics/_classification.py:1318: UndefinedMetricWarning: Precision and F-score are ill-defined and being set to 0.0 in labels with no predicted samples. Use `zero_division` parameter to control this behavior.\n",
      "  _warn_prf(average, modifier, msg_start, len(result))\n",
      "/opt/conda/lib/python3.7/site-packages/sklearn/metrics/_classification.py:1318: UndefinedMetricWarning: Precision and F-score are ill-defined and being set to 0.0 in labels with no predicted samples. Use `zero_division` parameter to control this behavior.\n",
      "  _warn_prf(average, modifier, msg_start, len(result))\n",
      "/opt/conda/lib/python3.7/site-packages/sklearn/metrics/_classification.py:1318: UndefinedMetricWarning: Precision and F-score are ill-defined and being set to 0.0 in labels with no predicted samples. Use `zero_division` parameter to control this behavior.\n",
      "  _warn_prf(average, modifier, msg_start, len(result))\n"
     ]
    }
   ],
   "source": [
    "from sklearn import metrics\n",
    "print(metrics.classification_report(y_test,predict))"
   ]
  },
  {
   "cell_type": "code",
   "execution_count": 20,
   "id": "d1b81743",
   "metadata": {
    "execution": {
     "iopub.execute_input": "2022-05-20T06:49:35.217399Z",
     "iopub.status.busy": "2022-05-20T06:49:35.216992Z",
     "iopub.status.idle": "2022-05-20T06:49:35.224297Z",
     "shell.execute_reply": "2022-05-20T06:49:35.223699Z"
    },
    "papermill": {
     "duration": 0.059897,
     "end_time": "2022-05-20T06:49:35.226310",
     "exception": false,
     "start_time": "2022-05-20T06:49:35.166413",
     "status": "completed"
    },
    "tags": []
   },
   "outputs": [],
   "source": [
    "from sklearn.pipeline import Pipeline \n",
    "\n",
    "text_clf = Pipeline([('tf' ,TfidfVectorizer(sublinear_tf =True, min_df = 5,norm ='l2' , ngram_range =(1,2), stop_words ='english')),\n",
    "                     ('clf',LinearSVC())])"
   ]
  },
  {
   "cell_type": "code",
   "execution_count": 21,
   "id": "e3680cf5",
   "metadata": {
    "execution": {
     "iopub.execute_input": "2022-05-20T06:49:35.326751Z",
     "iopub.status.busy": "2022-05-20T06:49:35.326132Z",
     "iopub.status.idle": "2022-05-20T06:49:35.939389Z",
     "shell.execute_reply": "2022-05-20T06:49:35.938663Z"
    },
    "papermill": {
     "duration": 0.665933,
     "end_time": "2022-05-20T06:49:35.941305",
     "exception": false,
     "start_time": "2022-05-20T06:49:35.275372",
     "status": "completed"
    },
    "tags": []
   },
   "outputs": [
    {
     "data": {
      "text/plain": [
       "Pipeline(steps=[('tf',\n",
       "                 TfidfVectorizer(min_df=5, ngram_range=(1, 2),\n",
       "                                 stop_words='english', sublinear_tf=True)),\n",
       "                ('clf', LinearSVC())])"
      ]
     },
     "execution_count": 21,
     "metadata": {},
     "output_type": "execute_result"
    }
   ],
   "source": [
    "text_clf.fit(x_train,y_train)"
   ]
  },
  {
   "cell_type": "code",
   "execution_count": 22,
   "id": "c994ad18",
   "metadata": {
    "execution": {
     "iopub.execute_input": "2022-05-20T06:49:36.043561Z",
     "iopub.status.busy": "2022-05-20T06:49:36.043045Z",
     "iopub.status.idle": "2022-05-20T06:49:36.178245Z",
     "shell.execute_reply": "2022-05-20T06:49:36.177250Z"
    },
    "papermill": {
     "duration": 0.189477,
     "end_time": "2022-05-20T06:49:36.180659",
     "exception": false,
     "start_time": "2022-05-20T06:49:35.991182",
     "status": "completed"
    },
    "tags": []
   },
   "outputs": [],
   "source": [
    "predict_text = text_clf.predict(x_test)"
   ]
  },
  {
   "cell_type": "code",
   "execution_count": 23,
   "id": "cc76bd90",
   "metadata": {
    "execution": {
     "iopub.execute_input": "2022-05-20T06:49:36.282021Z",
     "iopub.status.busy": "2022-05-20T06:49:36.281723Z",
     "iopub.status.idle": "2022-05-20T06:49:39.330168Z",
     "shell.execute_reply": "2022-05-20T06:49:39.329084Z"
    },
    "papermill": {
     "duration": 3.102081,
     "end_time": "2022-05-20T06:49:39.332777",
     "exception": false,
     "start_time": "2022-05-20T06:49:36.230696",
     "status": "completed"
    },
    "tags": []
   },
   "outputs": [
    {
     "name": "stderr",
     "output_type": "stream",
     "text": [
      "/opt/conda/lib/python3.7/site-packages/sklearn/model_selection/_split.py:680: UserWarning: The least populated class in y has only 1 members, which is less than n_splits=5.\n",
      "  UserWarning,\n"
     ]
    }
   ],
   "source": [
    "from sklearn.model_selection import cross_val_score\n",
    "\n",
    "cross_val_score = cross_val_score(text_clf , x_train,y_train,cv=5,scoring ='accuracy',n_jobs =-1)"
   ]
  },
  {
   "cell_type": "code",
   "execution_count": 24,
   "id": "19695ff7",
   "metadata": {
    "execution": {
     "iopub.execute_input": "2022-05-20T06:49:39.436518Z",
     "iopub.status.busy": "2022-05-20T06:49:39.435966Z",
     "iopub.status.idle": "2022-05-20T06:49:39.441390Z",
     "shell.execute_reply": "2022-05-20T06:49:39.440181Z"
    },
    "papermill": {
     "duration": 0.061202,
     "end_time": "2022-05-20T06:49:39.444539",
     "exception": false,
     "start_time": "2022-05-20T06:49:39.383337",
     "status": "completed"
    },
    "tags": []
   },
   "outputs": [
    {
     "name": "stdout",
     "output_type": "stream",
     "text": [
      "0.7936908517350157\n"
     ]
    }
   ],
   "source": [
    "print(np.mean(cross_val_score))"
   ]
  },
  {
   "cell_type": "code",
   "execution_count": 25,
   "id": "3caaf87b",
   "metadata": {
    "execution": {
     "iopub.execute_input": "2022-05-20T06:49:39.547971Z",
     "iopub.status.busy": "2022-05-20T06:49:39.547214Z",
     "iopub.status.idle": "2022-05-20T06:49:39.555250Z",
     "shell.execute_reply": "2022-05-20T06:49:39.554365Z"
    },
    "papermill": {
     "duration": 0.061276,
     "end_time": "2022-05-20T06:49:39.557314",
     "exception": false,
     "start_time": "2022-05-20T06:49:39.496038",
     "status": "completed"
    },
    "tags": []
   },
   "outputs": [],
   "source": [
    "from sklearn.naive_bayes import BernoulliNB\n",
    "nb =BernoulliNB\n",
    "\n",
    "\n",
    "text_clf = Pipeline([('tf' ,TfidfVectorizer(sublinear_tf =True, min_df = 5,norm ='l2' , ngram_range =(1,2), stop_words ='english')),\n",
    "                     ('clf',BernoulliNB())])"
   ]
  },
  {
   "cell_type": "code",
   "execution_count": 26,
   "id": "e9b567ca",
   "metadata": {
    "execution": {
     "iopub.execute_input": "2022-05-20T06:49:39.659739Z",
     "iopub.status.busy": "2022-05-20T06:49:39.659430Z",
     "iopub.status.idle": "2022-05-20T06:49:40.194971Z",
     "shell.execute_reply": "2022-05-20T06:49:40.194117Z"
    },
    "papermill": {
     "duration": 0.588889,
     "end_time": "2022-05-20T06:49:40.196949",
     "exception": false,
     "start_time": "2022-05-20T06:49:39.608060",
     "status": "completed"
    },
    "tags": []
   },
   "outputs": [
    {
     "data": {
      "text/plain": [
       "Pipeline(steps=[('tf',\n",
       "                 TfidfVectorizer(min_df=5, ngram_range=(1, 2),\n",
       "                                 stop_words='english', sublinear_tf=True)),\n",
       "                ('clf', BernoulliNB())])"
      ]
     },
     "execution_count": 26,
     "metadata": {},
     "output_type": "execute_result"
    }
   ],
   "source": [
    "text_clf.fit(x_train, y_train)"
   ]
  },
  {
   "cell_type": "code",
   "execution_count": 27,
   "id": "e8744bfd",
   "metadata": {
    "execution": {
     "iopub.execute_input": "2022-05-20T06:49:40.302078Z",
     "iopub.status.busy": "2022-05-20T06:49:40.301466Z",
     "iopub.status.idle": "2022-05-20T06:49:40.495439Z",
     "shell.execute_reply": "2022-05-20T06:49:40.492839Z"
    },
    "papermill": {
     "duration": 0.249649,
     "end_time": "2022-05-20T06:49:40.497769",
     "exception": false,
     "start_time": "2022-05-20T06:49:40.248120",
     "status": "completed"
    },
    "tags": []
   },
   "outputs": [
    {
     "name": "stdout",
     "output_type": "stream",
     "text": [
      "                                                                              precision    recall  f1-score   support\n",
      "\n",
      "                                                     Bank account or service       0.71      0.55      0.62        44\n",
      "                                                               Consumer Loan       0.50      0.14      0.22        21\n",
      "                                                                 Credit card       0.69      0.60      0.64        72\n",
      "                                                            Credit reporting       0.60      0.92      0.73        91\n",
      "Credit reporting, credit repair services, or other personal consumer reports       0.00      0.00      0.00         2\n",
      "                                                             Debt collection       0.63      0.84      0.72       124\n",
      "                                                             Money transfers       0.00      0.00      0.00        11\n",
      "                                                                    Mortgage       0.87      0.76      0.81       113\n",
      "                                                     Other financial service       0.00      0.00      0.00         1\n",
      "                                                                 Payday loan       0.00      0.00      0.00         8\n",
      "                                                                Prepaid card       0.00      0.00      0.00         8\n",
      "                                                                Student loan       0.91      0.59      0.71        34\n",
      "\n",
      "                                                                    accuracy                           0.69       529\n",
      "                                                                   macro avg       0.41      0.37      0.37       529\n",
      "                                                                weighted avg       0.67      0.69      0.66       529\n",
      "\n"
     ]
    },
    {
     "name": "stderr",
     "output_type": "stream",
     "text": [
      "/opt/conda/lib/python3.7/site-packages/sklearn/metrics/_classification.py:1318: UndefinedMetricWarning: Precision and F-score are ill-defined and being set to 0.0 in labels with no predicted samples. Use `zero_division` parameter to control this behavior.\n",
      "  _warn_prf(average, modifier, msg_start, len(result))\n",
      "/opt/conda/lib/python3.7/site-packages/sklearn/metrics/_classification.py:1318: UndefinedMetricWarning: Precision and F-score are ill-defined and being set to 0.0 in labels with no predicted samples. Use `zero_division` parameter to control this behavior.\n",
      "  _warn_prf(average, modifier, msg_start, len(result))\n",
      "/opt/conda/lib/python3.7/site-packages/sklearn/metrics/_classification.py:1318: UndefinedMetricWarning: Precision and F-score are ill-defined and being set to 0.0 in labels with no predicted samples. Use `zero_division` parameter to control this behavior.\n",
      "  _warn_prf(average, modifier, msg_start, len(result))\n"
     ]
    }
   ],
   "source": [
    "predict = text_clf.predict(x_test)\n",
    "print(metrics.classification_report(y_test,predict))"
   ]
  },
  {
   "cell_type": "code",
   "execution_count": 28,
   "id": "59d92bb8",
   "metadata": {
    "execution": {
     "iopub.execute_input": "2022-05-20T06:49:40.604241Z",
     "iopub.status.busy": "2022-05-20T06:49:40.603942Z",
     "iopub.status.idle": "2022-05-20T06:49:41.908765Z",
     "shell.execute_reply": "2022-05-20T06:49:41.907870Z"
    },
    "papermill": {
     "duration": 1.360711,
     "end_time": "2022-05-20T06:49:41.911432",
     "exception": false,
     "start_time": "2022-05-20T06:49:40.550721",
     "status": "completed"
    },
    "tags": []
   },
   "outputs": [
    {
     "name": "stderr",
     "output_type": "stream",
     "text": [
      "/opt/conda/lib/python3.7/site-packages/sklearn/model_selection/_split.py:680: UserWarning: The least populated class in y has only 1 members, which is less than n_splits=5.\n",
      "  UserWarning,\n"
     ]
    },
    {
     "name": "stdout",
     "output_type": "stream",
     "text": [
      "0.6580441640378549\n"
     ]
    }
   ],
   "source": [
    "from sklearn.model_selection import cross_val_score\n",
    "cross_val = cross_val_score(text_clf, x_train, y_train, cv=5, scoring =\"accuracy\", n_jobs = -1)\n",
    "print(np.mean(cross_val))"
   ]
  },
  {
   "cell_type": "code",
   "execution_count": 29,
   "id": "5ec8b315",
   "metadata": {
    "execution": {
     "iopub.execute_input": "2022-05-20T06:49:42.020350Z",
     "iopub.status.busy": "2022-05-20T06:49:42.020076Z",
     "iopub.status.idle": "2022-05-20T06:49:42.940304Z",
     "shell.execute_reply": "2022-05-20T06:49:42.939401Z"
    },
    "papermill": {
     "duration": 0.976245,
     "end_time": "2022-05-20T06:49:42.942545",
     "exception": false,
     "start_time": "2022-05-20T06:49:41.966300",
     "status": "completed"
    },
    "tags": []
   },
   "outputs": [
    {
     "data": {
      "text/plain": [
       "Pipeline(steps=[('tf',\n",
       "                 TfidfVectorizer(min_df=5, ngram_range=(1, 2),\n",
       "                                 stop_words='english', sublinear_tf=True)),\n",
       "                ('clf', DecisionTreeClassifier())])"
      ]
     },
     "execution_count": 29,
     "metadata": {},
     "output_type": "execute_result"
    }
   ],
   "source": [
    "from sklearn.tree import DecisionTreeClassifier\n",
    "text_clf = Pipeline([('tf' ,TfidfVectorizer(sublinear_tf =True, min_df = 5,norm ='l2' , ngram_range =(1,2), stop_words ='english')),\n",
    "                     ('clf',DecisionTreeClassifier())])\n",
    "text_clf.fit(x_train,y_train)\n"
   ]
  },
  {
   "cell_type": "code",
   "execution_count": 30,
   "id": "fc738e46",
   "metadata": {
    "execution": {
     "iopub.execute_input": "2022-05-20T06:49:43.051087Z",
     "iopub.status.busy": "2022-05-20T06:49:43.050810Z",
     "iopub.status.idle": "2022-05-20T06:49:45.150061Z",
     "shell.execute_reply": "2022-05-20T06:49:45.149245Z"
    },
    "papermill": {
     "duration": 2.156947,
     "end_time": "2022-05-20T06:49:45.152792",
     "exception": false,
     "start_time": "2022-05-20T06:49:42.995845",
     "status": "completed"
    },
    "tags": []
   },
   "outputs": [
    {
     "name": "stdout",
     "output_type": "stream",
     "text": [
      "model score 0.6313799621928167\n"
     ]
    },
    {
     "name": "stderr",
     "output_type": "stream",
     "text": [
      "/opt/conda/lib/python3.7/site-packages/sklearn/model_selection/_split.py:680: UserWarning: The least populated class in y has only 1 members, which is less than n_splits=5.\n",
      "  UserWarning,\n"
     ]
    },
    {
     "name": "stdout",
     "output_type": "stream",
     "text": [
      "cross val score  0.6157728706624606\n"
     ]
    }
   ],
   "source": [
    "predict = text_clf.predict(x_test)\n",
    "\n",
    "model_score = text_clf.score(x_test,y_test)\n",
    "print('model score',model_score)\n",
    "\n",
    "cross_val = cross_val_score(text_clf, x_train,y_train, cv =5 ,scoring ='accuracy',n_jobs =-1)\n",
    "print('cross val score ',np.mean(cross_val))"
   ]
  },
  {
   "cell_type": "code",
   "execution_count": 31,
   "id": "1e72f4ba",
   "metadata": {
    "execution": {
     "iopub.execute_input": "2022-05-20T06:49:45.264693Z",
     "iopub.status.busy": "2022-05-20T06:49:45.264387Z",
     "iopub.status.idle": "2022-05-20T06:49:46.942009Z",
     "shell.execute_reply": "2022-05-20T06:49:46.941130Z"
    },
    "papermill": {
     "duration": 1.735945,
     "end_time": "2022-05-20T06:49:46.944268",
     "exception": false,
     "start_time": "2022-05-20T06:49:45.208323",
     "status": "completed"
    },
    "tags": []
   },
   "outputs": [
    {
     "data": {
      "text/plain": [
       "Pipeline(steps=[('tf',\n",
       "                 TfidfVectorizer(min_df=5, ngram_range=(1, 2),\n",
       "                                 stop_words='english', sublinear_tf=True)),\n",
       "                ('clf', RandomForestClassifier())])"
      ]
     },
     "execution_count": 31,
     "metadata": {},
     "output_type": "execute_result"
    }
   ],
   "source": [
    "from sklearn.ensemble import RandomForestClassifier\n",
    "\n",
    "text_clf = Pipeline([('tf' ,TfidfVectorizer(sublinear_tf =True, min_df = 5,norm ='l2' , ngram_range =(1,2), stop_words ='english')),\n",
    "                     ('clf',RandomForestClassifier())])\n",
    "text_clf.fit(x_train,y_train)\n",
    "\n"
   ]
  },
  {
   "cell_type": "code",
   "execution_count": 32,
   "id": "6f391093",
   "metadata": {
    "execution": {
     "iopub.execute_input": "2022-05-20T06:49:47.056778Z",
     "iopub.status.busy": "2022-05-20T06:49:47.056233Z",
     "iopub.status.idle": "2022-05-20T06:49:50.924214Z",
     "shell.execute_reply": "2022-05-20T06:49:50.923267Z"
    },
    "papermill": {
     "duration": 3.927045,
     "end_time": "2022-05-20T06:49:50.926937",
     "exception": false,
     "start_time": "2022-05-20T06:49:46.999892",
     "status": "completed"
    },
    "tags": []
   },
   "outputs": [
    {
     "name": "stdout",
     "output_type": "stream",
     "text": [
      "model score 0.77882797731569\n"
     ]
    },
    {
     "name": "stderr",
     "output_type": "stream",
     "text": [
      "/opt/conda/lib/python3.7/site-packages/sklearn/model_selection/_split.py:680: UserWarning: The least populated class in y has only 1 members, which is less than n_splits=5.\n",
      "  UserWarning,\n"
     ]
    },
    {
     "name": "stdout",
     "output_type": "stream",
     "text": [
      "cross val score  0.7470031545741325\n"
     ]
    }
   ],
   "source": [
    "predict = text_clf.predict(x_test)\n",
    "\n",
    "model_score = text_clf.score(x_test,y_test)\n",
    "print('model score',model_score)\n",
    "\n",
    "cross_val = cross_val_score(text_clf, x_train,y_train, cv =5 ,scoring ='accuracy',n_jobs =-1)\n",
    "print('cross val score ',np.mean(cross_val))"
   ]
  },
  {
   "cell_type": "code",
   "execution_count": 33,
   "id": "11706873",
   "metadata": {
    "execution": {
     "iopub.execute_input": "2022-05-20T06:49:51.042799Z",
     "iopub.status.busy": "2022-05-20T06:49:51.042362Z",
     "iopub.status.idle": "2022-05-20T06:49:53.773130Z",
     "shell.execute_reply": "2022-05-20T06:49:53.772188Z"
    },
    "papermill": {
     "duration": 2.791089,
     "end_time": "2022-05-20T06:49:53.775302",
     "exception": false,
     "start_time": "2022-05-20T06:49:50.984213",
     "status": "completed"
    },
    "tags": []
   },
   "outputs": [
    {
     "data": {
      "text/html": [
       "<style type='text/css'>\n",
       ".datatable table.frame { margin-bottom: 0; }\n",
       ".datatable table.frame thead { border-bottom: none; }\n",
       ".datatable table.frame tr.coltypes td {  color: #FFFFFF;  line-height: 6px;  padding: 0 0.5em;}\n",
       ".datatable .bool    { background: #DDDD99; }\n",
       ".datatable .object  { background: #565656; }\n",
       ".datatable .int     { background: #5D9E5D; }\n",
       ".datatable .float   { background: #4040CC; }\n",
       ".datatable .str     { background: #CC4040; }\n",
       ".datatable .time    { background: #40CC40; }\n",
       ".datatable .row_index {  background: var(--jp-border-color3);  border-right: 1px solid var(--jp-border-color0);  color: var(--jp-ui-font-color3);  font-size: 9px;}\n",
       ".datatable .frame tbody td { text-align: left; }\n",
       ".datatable .frame tr.coltypes .row_index {  background: var(--jp-border-color0);}\n",
       ".datatable th:nth-child(2) { padding-left: 12px; }\n",
       ".datatable .hellipsis {  color: var(--jp-cell-editor-border-color);}\n",
       ".datatable .vellipsis {  background: var(--jp-layout-color0);  color: var(--jp-cell-editor-border-color);}\n",
       ".datatable .na {  color: var(--jp-cell-editor-border-color);  font-size: 80%;}\n",
       ".datatable .sp {  opacity: 0.25;}\n",
       ".datatable .footer { font-size: 9px; }\n",
       ".datatable .frame_dimensions {  background: var(--jp-border-color3);  border-top: 1px solid var(--jp-border-color0);  color: var(--jp-ui-font-color3);  display: inline-block;  opacity: 0.6;  padding: 1px 10px 1px 5px;}\n",
       "</style>\n"
      ],
      "text/plain": [
       "<IPython.core.display.HTML object>"
      ]
     },
     "metadata": {},
     "output_type": "display_data"
    },
    {
     "data": {
      "text/plain": [
       "Pipeline(steps=[('tf',\n",
       "                 TfidfVectorizer(min_df=5, ngram_range=(1, 2),\n",
       "                                 stop_words='english', sublinear_tf=True)),\n",
       "                ('clf', RandomForestClassifier())])"
      ]
     },
     "execution_count": 33,
     "metadata": {},
     "output_type": "execute_result"
    }
   ],
   "source": [
    "from lightgbm import LGBMClassifier \n",
    "\n",
    "text_clf = Pipeline([('tf' ,TfidfVectorizer(sublinear_tf =True, min_df = 5,norm ='l2' , ngram_range =(1,2), stop_words ='english')),\n",
    "                     ('clf',RandomForestClassifier())])\n",
    "text_clf.fit(x_train,y_train)"
   ]
  },
  {
   "cell_type": "code",
   "execution_count": 34,
   "id": "c93b1de6",
   "metadata": {
    "execution": {
     "iopub.execute_input": "2022-05-20T06:49:53.891153Z",
     "iopub.status.busy": "2022-05-20T06:49:53.890429Z",
     "iopub.status.idle": "2022-05-20T06:49:54.091662Z",
     "shell.execute_reply": "2022-05-20T06:49:54.090839Z"
    },
    "papermill": {
     "duration": 0.262604,
     "end_time": "2022-05-20T06:49:54.094488",
     "exception": false,
     "start_time": "2022-05-20T06:49:53.831884",
     "status": "completed"
    },
    "tags": []
   },
   "outputs": [
    {
     "name": "stdout",
     "output_type": "stream",
     "text": [
      "                                                                              precision    recall  f1-score   support\n",
      "\n",
      "                                                     Bank account or service       0.76      0.73      0.74        44\n",
      "                                                               Consumer Loan       0.60      0.14      0.23        21\n",
      "                                                                 Credit card       0.76      0.81      0.78        72\n",
      "                                                            Credit reporting       0.78      0.84      0.80        91\n",
      "Credit reporting, credit repair services, or other personal consumer reports       0.00      0.00      0.00         2\n",
      "                                                             Debt collection       0.69      0.90      0.78       124\n",
      "                                                             Money transfers       0.00      0.00      0.00        11\n",
      "                                                                    Mortgage       0.88      0.93      0.90       113\n",
      "                                                     Other financial service       0.00      0.00      0.00         1\n",
      "                                                                 Payday loan       0.00      0.00      0.00         8\n",
      "                                                                Prepaid card       0.00      0.00      0.00         8\n",
      "                                                                Student loan       0.92      0.68      0.78        34\n",
      "\n",
      "                                                                    accuracy                           0.77       529\n",
      "                                                                   macro avg       0.45      0.42      0.42       529\n",
      "                                                                weighted avg       0.73      0.77      0.74       529\n",
      "\n"
     ]
    },
    {
     "name": "stderr",
     "output_type": "stream",
     "text": [
      "/opt/conda/lib/python3.7/site-packages/sklearn/metrics/_classification.py:1318: UndefinedMetricWarning: Precision and F-score are ill-defined and being set to 0.0 in labels with no predicted samples. Use `zero_division` parameter to control this behavior.\n",
      "  _warn_prf(average, modifier, msg_start, len(result))\n",
      "/opt/conda/lib/python3.7/site-packages/sklearn/metrics/_classification.py:1318: UndefinedMetricWarning: Precision and F-score are ill-defined and being set to 0.0 in labels with no predicted samples. Use `zero_division` parameter to control this behavior.\n",
      "  _warn_prf(average, modifier, msg_start, len(result))\n",
      "/opt/conda/lib/python3.7/site-packages/sklearn/metrics/_classification.py:1318: UndefinedMetricWarning: Precision and F-score are ill-defined and being set to 0.0 in labels with no predicted samples. Use `zero_division` parameter to control this behavior.\n",
      "  _warn_prf(average, modifier, msg_start, len(result))\n"
     ]
    }
   ],
   "source": [
    "predict = text_clf.predict(x_test)\n",
    "print(metrics.classification_report(y_test,predict))"
   ]
  },
  {
   "cell_type": "code",
   "execution_count": 35,
   "id": "210db53f",
   "metadata": {
    "execution": {
     "iopub.execute_input": "2022-05-20T06:49:54.212012Z",
     "iopub.status.busy": "2022-05-20T06:49:54.211213Z",
     "iopub.status.idle": "2022-05-20T06:49:57.970373Z",
     "shell.execute_reply": "2022-05-20T06:49:57.969456Z"
    },
    "papermill": {
     "duration": 3.821196,
     "end_time": "2022-05-20T06:49:57.973766",
     "exception": false,
     "start_time": "2022-05-20T06:49:54.152570",
     "status": "completed"
    },
    "tags": []
   },
   "outputs": [
    {
     "name": "stdout",
     "output_type": "stream",
     "text": [
      "model score 0.7731568998109641\n"
     ]
    },
    {
     "name": "stderr",
     "output_type": "stream",
     "text": [
      "/opt/conda/lib/python3.7/site-packages/sklearn/model_selection/_split.py:680: UserWarning: The least populated class in y has only 1 members, which is less than n_splits=5.\n",
      "  UserWarning,\n"
     ]
    },
    {
     "name": "stdout",
     "output_type": "stream",
     "text": [
      "cross val score  0.7488958990536277\n"
     ]
    }
   ],
   "source": [
    "predict = text_clf.predict(x_test)\n",
    "\n",
    "model_score = text_clf.score(x_test,y_test)\n",
    "print('model score',model_score)\n",
    "\n",
    "cross_val = cross_val_score(text_clf, x_train,y_train, cv =5 ,scoring ='accuracy',n_jobs =-1)\n",
    "print('cross val score ',np.mean(cross_val))"
   ]
  },
  {
   "cell_type": "markdown",
   "id": "fe98724f",
   "metadata": {
    "papermill": {
     "duration": 0.057988,
     "end_time": "2022-05-20T06:49:58.092743",
     "exception": false,
     "start_time": "2022-05-20T06:49:58.034755",
     "status": "completed"
    },
    "tags": []
   },
   "source": [
    "hyperparameter tuning"
   ]
  },
  {
   "cell_type": "code",
   "execution_count": 36,
   "id": "14316ae6",
   "metadata": {
    "execution": {
     "iopub.execute_input": "2022-05-20T06:49:58.212404Z",
     "iopub.status.busy": "2022-05-20T06:49:58.211911Z",
     "iopub.status.idle": "2022-05-20T06:49:58.218222Z",
     "shell.execute_reply": "2022-05-20T06:49:58.217676Z"
    },
    "papermill": {
     "duration": 0.067843,
     "end_time": "2022-05-20T06:49:58.220025",
     "exception": false,
     "start_time": "2022-05-20T06:49:58.152182",
     "status": "completed"
    },
    "tags": []
   },
   "outputs": [],
   "source": [
    "from sklearn.model_selection import RandomizedSearchCV ,GridSearchCV\n",
    "\n",
    "n_estimators = [int(x) for x in np.linspace(100,1200,12)]\n",
    "max_features = ['auto','sqrt']\n",
    "max_depth = [int(x) for x in np.linspace(5,30,6) ]\n",
    "min_samples_split =[2,5,10,15,100]\n",
    "min_samples_leaf = [1,2,5,10]\n",
    "\n",
    "\n",
    "search_grid ={'n_estimators': n_estimators, 'max_features': max_features ,\n",
    "             'max_depth': max_depth, 'min_samples_split': min_samples_split,\n",
    "             'min_samples_leaf' : min_samples_leaf}\n"
   ]
  },
  {
   "cell_type": "code",
   "execution_count": 37,
   "id": "e32b602f",
   "metadata": {
    "execution": {
     "iopub.execute_input": "2022-05-20T06:49:58.338819Z",
     "iopub.status.busy": "2022-05-20T06:49:58.338382Z",
     "iopub.status.idle": "2022-05-20T06:50:55.327180Z",
     "shell.execute_reply": "2022-05-20T06:50:55.326648Z"
    },
    "papermill": {
     "duration": 57.109852,
     "end_time": "2022-05-20T06:50:55.388387",
     "exception": false,
     "start_time": "2022-05-20T06:49:58.278535",
     "status": "completed"
    },
    "tags": []
   },
   "outputs": [
    {
     "name": "stderr",
     "output_type": "stream",
     "text": [
      "/opt/conda/lib/python3.7/site-packages/sklearn/model_selection/_split.py:680: UserWarning: The least populated class in y has only 1 members, which is less than n_splits=5.\n",
      "  UserWarning,\n"
     ]
    },
    {
     "data": {
      "text/plain": [
       "RandomizedSearchCV(cv=5, estimator=RandomForestClassifier(), n_jobs=-1,\n",
       "                   param_distributions={'max_depth': [5, 10, 15, 20, 25, 30],\n",
       "                                        'max_features': ['auto', 'sqrt'],\n",
       "                                        'min_samples_leaf': [1, 2, 5, 10],\n",
       "                                        'min_samples_split': [2, 5, 10, 15,\n",
       "                                                              100],\n",
       "                                        'n_estimators': [100, 200, 300, 400,\n",
       "                                                         500, 600, 700, 800,\n",
       "                                                         900, 1000, 1100,\n",
       "                                                         1200]},\n",
       "                   scoring='accuracy')"
      ]
     },
     "execution_count": 37,
     "metadata": {},
     "output_type": "execute_result"
    }
   ],
   "source": [
    "#random forest \n",
    "from sklearn.ensemble import RandomForestClassifier\n",
    "rf = RandomForestClassifier()\n",
    "\n",
    "rf =RandomizedSearchCV(estimator = rf, param_distributions = search_grid, cv =5, scoring ='accuracy',n_iter = 10,n_jobs =-1)\n",
    "\n",
    "rf.fit(tdif_train,y_train)"
   ]
  },
  {
   "cell_type": "code",
   "execution_count": 38,
   "id": "2c5784e0",
   "metadata": {
    "execution": {
     "iopub.execute_input": "2022-05-20T06:50:55.512686Z",
     "iopub.status.busy": "2022-05-20T06:50:55.512089Z",
     "iopub.status.idle": "2022-05-20T06:50:55.518338Z",
     "shell.execute_reply": "2022-05-20T06:50:55.517793Z"
    },
    "papermill": {
     "duration": 0.07254,
     "end_time": "2022-05-20T06:50:55.520168",
     "exception": false,
     "start_time": "2022-05-20T06:50:55.447628",
     "status": "completed"
    },
    "tags": []
   },
   "outputs": [
    {
     "data": {
      "text/plain": [
       "0.722397476340694"
      ]
     },
     "execution_count": 38,
     "metadata": {},
     "output_type": "execute_result"
    }
   ],
   "source": [
    "rf.best_score_"
   ]
  },
  {
   "cell_type": "code",
   "execution_count": 39,
   "id": "319e9299",
   "metadata": {
    "execution": {
     "iopub.execute_input": "2022-05-20T06:50:55.646553Z",
     "iopub.status.busy": "2022-05-20T06:50:55.646027Z",
     "iopub.status.idle": "2022-05-20T06:50:55.650888Z",
     "shell.execute_reply": "2022-05-20T06:50:55.650291Z"
    },
    "papermill": {
     "duration": 0.068468,
     "end_time": "2022-05-20T06:50:55.653128",
     "exception": false,
     "start_time": "2022-05-20T06:50:55.584660",
     "status": "completed"
    },
    "tags": []
   },
   "outputs": [
    {
     "data": {
      "text/plain": [
       "{'n_estimators': 400,\n",
       " 'min_samples_split': 15,\n",
       " 'min_samples_leaf': 1,\n",
       " 'max_features': 'auto',\n",
       " 'max_depth': 30}"
      ]
     },
     "execution_count": 39,
     "metadata": {},
     "output_type": "execute_result"
    }
   ],
   "source": [
    "rf.best_params_"
   ]
  }
 ],
 "metadata": {
  "kernelspec": {
   "display_name": "Python 3",
   "language": "python",
   "name": "python3"
  },
  "language_info": {
   "codemirror_mode": {
    "name": "ipython",
    "version": 3
   },
   "file_extension": ".py",
   "mimetype": "text/x-python",
   "name": "python",
   "nbconvert_exporter": "python",
   "pygments_lexer": "ipython3",
   "version": "3.7.12"
  },
  "papermill": {
   "default_parameters": {},
   "duration": 98.890267,
   "end_time": "2022-05-20T06:50:58.342809",
   "environment_variables": {},
   "exception": null,
   "input_path": "__notebook__.ipynb",
   "output_path": "__notebook__.ipynb",
   "parameters": {},
   "start_time": "2022-05-20T06:49:19.452542",
   "version": "2.3.4"
  }
 },
 "nbformat": 4,
 "nbformat_minor": 5
}
